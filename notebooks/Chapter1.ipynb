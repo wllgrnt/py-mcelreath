{
 "cells": [
  {
   "cell_type": "markdown",
   "id": "d8b8ccfe-28c5-4375-bf6e-b162529faf62",
   "metadata": {},
   "source": [
    "# Chapter 1\n",
    "\n",
    "No code in this chapter, but some interesting snippets:\n",
    "- Statistics in practice as engineering, rather than maths or science. \n",
    "- Hints about why exponential distributions are common in nature, due to entropic arguments\n",
    "- Distinction between NHST and Popperian views of science - we falsify the wrong hypothesis!\n",
    "- Distinction between the hypothesis, the process model, and the statistical model, and ways to avoid unforced errors e.g. when the phenomenon you're collecting data for corresponds to multiple process models, which could correspond to multiple hypotheses. So falsifying the statistical model doesn't actually help me falsify the hypothesis. Example is the power law distribution of alleles, which could be true under selection and neutral models of evolution, depending on the process.\n",
    "- Issues with *modus tollens* in real-life cases, when:\n",
    "    1. there's observation error\n",
    "    2. the hypotheses are quantitative and continuous, rather than discrete "
   ]
  }
 ],
 "metadata": {
  "kernelspec": {
   "display_name": "Python [conda env:py3_10] *",
   "language": "python",
   "name": "conda-env-py3_10-py"
  },
  "language_info": {
   "codemirror_mode": {
    "name": "ipython",
    "version": 3
   },
   "file_extension": ".py",
   "mimetype": "text/x-python",
   "name": "python",
   "nbconvert_exporter": "python",
   "pygments_lexer": "ipython3",
   "version": "3.10.4"
  }
 },
 "nbformat": 4,
 "nbformat_minor": 5
}
