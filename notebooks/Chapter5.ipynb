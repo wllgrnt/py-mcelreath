{
 "cells": [
  {
   "cell_type": "markdown",
   "id": "918369df-6008-42c6-bce4-fa45ca7692f8",
   "metadata": {},
   "source": [
    "# Chapter 5\n",
    "\n",
    "Multiple regression and some causal inference."
   ]
  },
  {
   "cell_type": "code",
   "execution_count": null,
   "id": "21421d79-c5db-4a7a-b802-c1094da8959c",
   "metadata": {},
   "outputs": [],
   "source": [
    "import arviz\n",
    "import matplotlib.pyplot as plt\n",
    "import numpy as np\n",
    "import scipy.stats\n",
    "import seaborn as sns\n",
    "import pandas as pd\n",
    "import pymc as pm \n",
    "\n",
    "import pybayes\n",
    "\n",
    "sns.set_style(\"white\") "
   ]
  },
  {
   "cell_type": "code",
   "execution_count": null,
   "id": "5f797272-a68d-40ae-8dae-74c053d65880",
   "metadata": {},
   "outputs": [],
   "source": [
    "from sklearn.preprocessing import StandardScaler"
   ]
  },
  {
   "cell_type": "code",
   "execution_count": null,
   "id": "f945565e-0248-4fe5-8cfa-d6e6ce928265",
   "metadata": {},
   "outputs": [],
   "source": [
    "%load_ext watermark\n",
    "%watermark -v -m -p arviz,matplotlib,numpy,scipy,seaborn,pandas,pymcs"
   ]
  },
  {
   "cell_type": "code",
   "execution_count": null,
   "id": "d0f277e5-5da2-4e3d-b84c-a297c2002e46",
   "metadata": {},
   "outputs": [],
   "source": [
    "# we look at the 'waffle houses and divorce' dataset in this chapter.\n",
    "waffle_url = \"https://raw.githubusercontent.com/rmcelreath/rethinking/master/data/WaffleDivorce.csv\"\n",
    "\n",
    "waffle_divorce_df = pd.read_csv(waffle_url, sep=';')"
   ]
  },
  {
   "cell_type": "code",
   "execution_count": null,
   "id": "7d2a61bc-d0ba-423c-954a-3a070851187b",
   "metadata": {},
   "outputs": [],
   "source": [
    "waffle_divorce_df"
   ]
  },
  {
   "cell_type": "code",
   "execution_count": null,
   "id": "9c6edb4b-31f9-4d22-aa2a-7298a78ad060",
   "metadata": {},
   "outputs": [],
   "source": [
    "# scale our variables\n",
    "\n",
    "def standardise(column: pd.Series) -> pd.Series:\n",
    "    return ( column - column.mean() ) / column.std()"
   ]
  },
  {
   "cell_type": "code",
   "execution_count": null,
   "id": "ba179543-74a9-4ab6-acba-839b5cd0efb3",
   "metadata": {},
   "outputs": [],
   "source": [
    "waffle_divorce_df['D'] = standardise(waffle_divorce_df.Divorce)\n",
    "waffle_divorce_df['M'] = standardise(waffle_divorce_df.Marriage)\n",
    "waffle_divorce_df['A'] = standardise(waffle_divorce_df.MedianAgeMarriage)"
   ]
  },
  {
   "cell_type": "code",
   "execution_count": null,
   "id": "b02aaa7f-68b9-4975-918b-dee672535f1f",
   "metadata": {},
   "outputs": [],
   "source": [
    "waffle_divorce_df[['D', 'M', 'A']].cov()"
   ]
  },
  {
   "cell_type": "markdown",
   "id": "72ade43b-e531-467a-a6f7-0d8363c0e94d",
   "metadata": {},
   "source": [
    "start with a basic linear regression model:\n",
    "\\begin{equation}\n",
    "\\begin{aligned}\n",
    "D_i &\\sim \\mathcal{N}(\\mu_i, \\sigma) \\\\\n",
    "\\mu_i &= \\alpha + \\beta_A A_i  \\\\\n",
    "\\alpha &\\sim \\text{Normal}(0, 0.2) \\\\\n",
    "\\beta &\\sim \\text{Normal}(0, 0.5) \\\\\n",
    "\\sigma &\\sim \\text{Exponential}(1)\n",
    "\\end{aligned}\n",
    "\\end{equation}\n",
    "\n"
   ]
  },
  {
   "cell_type": "code",
   "execution_count": null,
   "id": "bc97fc89-40a9-4ce7-8048-5d62c7131af0",
   "metadata": {},
   "outputs": [],
   "source": [
    "# i should make the below a function.\n",
    "\n",
    "with pm.Model() as model_age_vs_divorce:\n",
    "    # priors\n",
    "    alpha = pm.Normal('alpha', mu=0, sigma=0.2)\n",
    "    beta = pm.Normal('beta', mu=0, sigma=0.5)\n",
    "    sigma = pm.Exponential('sigma', scale=1)\n",
    "    # model\n",
    "    mu = pm.Deterministic('mu', alpha + beta * waffle_divorce_df.A)\n",
    "    # likelihood\n",
    "    divorce_rate=pm.Normal('divorce_rate', mu=mu, sigma=sigma, observed=waffle_divorce_df.D) \n",
    "    model_age_vs_divorce_samples = pm.sample(1000, tune=1000)\n",
    "    map_vals = pm.find_MAP()"
   ]
  },
  {
   "cell_type": "code",
   "execution_count": null,
   "id": "7d577a30-8110-4d0f-9fd7-07e8a478f40d",
   "metadata": {},
   "outputs": [],
   "source": [
    "mu_pred = model_age_vs_divorce_samples.posterior['mu']\n",
    "divorce_pred = pm.sample_posterior_predictive(model_age_vs_divorce_samples, model=model_age_vs_divorce)"
   ]
  },
  {
   "cell_type": "code",
   "execution_count": null,
   "id": "bb8f7355-9b94-42ad-94d8-bbcc5e8addea",
   "metadata": {},
   "outputs": [],
   "source": [
    "x = np.linspace(waffle_divorce_df.A.min(), waffle_divorce_df.A.max(), 100)\n",
    "\n",
    "mu = map_vals['alpha'] + map_vals['beta'] * x\n",
    "\n",
    "plt.plot(x, mu, color='#1b9e77')\n",
    "plt.scatter(waffle_divorce_df.A, waffle_divorce_df.D, alpha=0.25)\n",
    "\n",
    "arviz.plot_hdi(waffle_divorce_df.A, mu_pred, hdi_prob=0.89, fill_kwargs={'alpha': 0.25, 'color': '#1b9e77'})\n",
    "# ppd interval for the heights\n",
    "arviz.plot_hdi(waffle_divorce_df.A, divorce_pred.posterior_predictive['divorce_rate'], hdi_prob=0.89, fill_kwargs={'alpha': 0.1, 'color': '#1b9e77'})\n",
    "\n",
    "plt.show()"
   ]
  },
  {
   "cell_type": "code",
   "execution_count": null,
   "id": "0e137027-bf17-4498-97fb-b2b64dceac70",
   "metadata": {},
   "outputs": [],
   "source": [
    "# look at our priors\n",
    "num_lines = 100\n",
    "alpha_prior = np.random.normal(loc=0, scale=0.2, size=num_lines)\n",
    "beta_prior = np.random.normal(loc=0, scale=0.5, size=num_lines)\n",
    "\n",
    "fig, ax= plt.subplots()\n",
    "num_points = 100\n",
    "x = np.linspace(waffle_divorce_df.A.min(), waffle_divorce_df.A.max(), num_points)\n",
    "\n",
    "for a, b in zip(alpha_prior, beta_prior):   \n",
    "    ax.plot(x, [a + b*i for i in x], alpha=0.1)\n",
    "\n",
    "ax.set_xlabel('standardised median age')\n",
    "ax.set_ylabel('standardised divorce rate')\n",
    "\n",
    "plt.show()"
   ]
  },
  {
   "cell_type": "code",
   "execution_count": null,
   "id": "08df0e60-b2eb-4a03-8caf-9723d6ac0d99",
   "metadata": {},
   "outputs": [],
   "source": [
    "# look at the posterior\n",
    "sns.histplot(model_age_vs_divorce_samples.posterior['beta'].values.flatten())"
   ]
  },
  {
   "cell_type": "code",
   "execution_count": null,
   "id": "645dda22-ff80-4ac4-a241-b53ecc771ebd",
   "metadata": {},
   "outputs": [],
   "source": [
    "# what does the value of beta mean, in the context of multiple regression?"
   ]
  },
  {
   "cell_type": "markdown",
   "id": "6f211d8a-7af9-4c36-b428-21dcc29cf033",
   "metadata": {},
   "source": [
    "## Multiple regression\n"
   ]
  },
  {
   "cell_type": "markdown",
   "id": "b7fab178-04f1-4f01-9934-58bd276f6656",
   "metadata": {},
   "source": [
    "Set up our regression just like the single-variable regression\n",
    "\n",
    "\\begin{equation}\n",
    "\\begin{aligned}\n",
    "D_i &\\sim \\mathcal{N}(\\mu_i, \\sigma) \\\\\n",
    "\\mu_i &= \\alpha + \\beta_A A_i + \\beta_M M_i \\\\\n",
    "\\alpha &\\sim \\text{Normal}(0, 0.2) \\\\\n",
    "\\beta_A &\\sim \\text{Normal}(0, 0.5) \\\\\n",
    "\\beta_M &\\sim \\text{Normal}(0, 0.5) \\\\\n",
    "\\sigma &\\sim \\text{Exponential}(1)\n",
    "\\end{aligned}\n",
    "\\end{equation}\n",
    "\n"
   ]
  },
  {
   "cell_type": "code",
   "execution_count": null,
   "id": "f3a24e3a-5da1-48cb-8386-81ae0f9b5009",
   "metadata": {},
   "outputs": [],
   "source": [
    "\n",
    "with pm.Model() as model_age_and_rate_vs_divorce:\n",
    "    # priors\n",
    "    alpha = pm.Normal('alpha', mu=0, sigma=0.2)\n",
    "    beta_a = pm.Normal('beta_a', mu=0, sigma=0.5)\n",
    "    beta_m = pm.Normal('beta_m', mu=0, sigma=0.5)\n",
    "    sigma = pm.Exponential('sigma', scale=1)\n",
    "    # model\n",
    "    mu = pm.Deterministic('mu', alpha + beta_a * waffle_divorce_df.A + beta_m * waffle_divorce_df.M)\n",
    "    # likelihood\n",
    "    divorce_rate=pm.Normal('divorce_rate', mu=mu, sigma=sigma, observed=waffle_divorce_df.D) \n",
    "    model_age_and_rate_vs_divorce_samples = pm.sample(1000, tune=1000)\n",
    "    map_vals = pm.find_MAP()"
   ]
  },
  {
   "cell_type": "code",
   "execution_count": null,
   "id": "87da5c8c-3386-4918-a6da-0f677aa9bad7",
   "metadata": {},
   "outputs": [],
   "source": [
    "arviz.summary(model_age_and_rate_vs_divorce_samples.posterior, var_names=['~mu'])"
   ]
  },
  {
   "cell_type": "markdown",
   "id": "9d822620-9be4-48bb-9808-7bd7a562a527",
   "metadata": {},
   "source": [
    "if you compare this to single-variable models the beta_m changes a lot, but the beta_a stays the same - this could be interpreted as that once we know the median age (A), there is little information in knowing M (conditional on A, D and M are independent)\n",
    "\n",
    "## Plotting\n",
    "\n",
    "### predictor residual plots \n",
    "\n",
    "the predictor residual is the average prediction error when we use all the other variables to model a predictor. In our example\n",
    "\n",
    "\\begin{equation}\n",
    "\\begin{aligned}\n",
    "M_i &\\sim \\mathcal{N}(\\mu_i, \\sigma) \\\\\n",
    "\\mu_i &= \\alpha + \\beta A_i \\\\\n",
    "\\alpha &\\sim \\text{Normal}(0, 0.2) \\\\\n",
    "\\beta &\\sim \\text{Normal}(0, 0.5) \\\\\n",
    "\\sigma &\\sim \\text{Exponential}(1)\n",
    "\\end{aligned}\n",
    "\\end{equation}\n",
    "\n"
   ]
  },
  {
   "cell_type": "code",
   "execution_count": null,
   "id": "a6826523-b01c-406e-95e7-7044a95901ae",
   "metadata": {},
   "outputs": [],
   "source": [
    "with pm.Model() as model_5_13:\n",
    "    # priors\n",
    "    alpha = pm.Normal('alpha', mu=0, sigma=0.2)\n",
    "    beta = pm.Normal('beta', mu=0, sigma=0.5)\n",
    "    sigma = pm.Exponential('sigma', scale=1)\n",
    "    # model\n",
    "    mu = pm.Deterministic('mu', alpha + beta * waffle_divorce_df.A)\n",
    "    # likelihood\n",
    "    M=pm.Normal('m', mu=mu, sigma=sigma, observed=waffle_divorce_df.M) \n",
    "    model_5_13_samples = pm.sample(1000, tune=1000)\n",
    "    map_vals = pm.find_MAP()\n",
    "    \n",
    "    mu_pred = model_age_vs_divorce_samples.posterior['mu']\n",
    "    m_pred = pm.sample_posterior_predictive(model_5_13_samples)"
   ]
  },
  {
   "cell_type": "code",
   "execution_count": null,
   "id": "40a45750-fa2f-4848-9682-70b7df77f0b0",
   "metadata": {},
   "outputs": [],
   "source": [
    "residual = waffle_divorce_df.M - map_vals['mu'] "
   ]
  },
  {
   "cell_type": "code",
   "execution_count": null,
   "id": "68f3acad-cfaf-4999-9570-17558c58d264",
   "metadata": {},
   "outputs": [],
   "source": [
    "plt.scatter(residual, waffle_divorce_df.D)"
   ]
  },
  {
   "cell_type": "code",
   "execution_count": null,
   "id": "6700a127-9676-49a4-a260-48357058015f",
   "metadata": {},
   "outputs": [],
   "source": []
  }
 ],
 "metadata": {
  "kernelspec": {
   "display_name": "Python [conda env:py3_10] *",
   "language": "python",
   "name": "conda-env-py3_10-py"
  },
  "language_info": {
   "codemirror_mode": {
    "name": "ipython",
    "version": 3
   },
   "file_extension": ".py",
   "mimetype": "text/x-python",
   "name": "python",
   "nbconvert_exporter": "python",
   "pygments_lexer": "ipython3",
   "version": "3.10.4"
  }
 },
 "nbformat": 4,
 "nbformat_minor": 5
}
