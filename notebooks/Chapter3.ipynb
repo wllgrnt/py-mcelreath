{
 "cells": [
  {
   "cell_type": "markdown",
   "id": "3f43be4f-c824-46ac-90c6-2352156e3d2a",
   "metadata": {},
   "source": [
    "# Chapter 3\n",
    "\n",
    "Sampling from the posterior - we have computers, why do we need a closed form for the posterior distribution when we can have a massive numpy array instead?"
   ]
  },
  {
   "cell_type": "code",
   "execution_count": null,
   "id": "669bc5de-d281-400b-bb90-7f9729abfef7",
   "metadata": {},
   "outputs": [],
   "source": [
    "import matplotlib.pyplot as plt\n",
    "import numpy as np\n",
    "import scipy.stats\n",
    "import seaborn as sns\n",
    "\n",
    "import pybayes\n",
    "\n",
    "sns.set(style='whitegrid')"
   ]
  },
  {
   "cell_type": "markdown",
   "id": "07703dbc-ed77-4b55-a33b-046db0c9fd3e",
   "metadata": {},
   "source": [
    "## Sampling from the grid-approximate posterior"
   ]
  },
  {
   "cell_type": "code",
   "execution_count": null,
   "id": "3c1b7a0a-24aa-492b-9751-973b6b332dae",
   "metadata": {},
   "outputs": [],
   "source": [
    "# using the example from chapter 2 of 9 attempts, 6 successes.\n",
    "posterior = pybayes.utils.grid_approximate_binomial(n=9,\n",
    "                                                    k=6,\n",
    "                                                    grid_size=1000,\n",
    "                                                    prior=None,\n",
    "                                                    plot=False)"
   ]
  },
  {
   "cell_type": "code",
   "execution_count": null,
   "id": "a92a42e2-899f-4b15-b9e9-d2f1a89367f0",
   "metadata": {},
   "outputs": [],
   "source": [
    "pybayes.utils.plot_nicely(x_vals=posterior[:,0], y_vals=posterior[:,1])"
   ]
  },
  {
   "cell_type": "code",
   "execution_count": null,
   "id": "91bb3df6-a08f-4d1c-a59b-b4e2521af9df",
   "metadata": {},
   "outputs": [],
   "source": [
    "# sample this distribution.\n",
    "samples = np.random.choice(posterior[:,0],\n",
    "                           size=int(1e4),\n",
    "                           p=posterior[:,1],\n",
    "                           replace=True)"
   ]
  },
  {
   "cell_type": "code",
   "execution_count": null,
   "id": "b8295935-58b9-4267-afdf-9481529fbe17",
   "metadata": {},
   "outputs": [],
   "source": [
    "# show the sampling - plot the sequence, then the density\n",
    "fig, axes = plt.subplots(nrows=2, figsize=(5,10))\n",
    "sns.scatterplot(x=np.arange(len(samples)), y=samples, alpha=0.2, ax=axes[0])\n",
    "axes[0].set_ylim(0,1)\n",
    "axes[0].set_xlabel('Sequence number')\n",
    "axes[0].set_ylabel('Sampled p')\n",
    "\n",
    "sns.histplot(x=samples, ax=axes[1], element='poly', fill=False)\n",
    "axes[1].set_xlim(0,1)\n",
    "axes[1].set_xlabel('Sampled p')\n",
    "axes[1].set_ylabel('Frequency density')\n",
    "plt.show()\n"
   ]
  },
  {
   "cell_type": "markdown",
   "id": "c69f7ba1-30b6-4857-8876-f9d331790f75",
   "metadata": {},
   "source": [
    "Once we have samples from the posterior, we can do things we actually care about, such as point estimates, and compatability intervals (McElreath dislikes the phrase 'confidence interval'). "
   ]
  },
  {
   "cell_type": "markdown",
   "id": "8e93174a-e172-4487-ab65-5f8f32f91157",
   "metadata": {},
   "source": [
    "### Intervals"
   ]
  },
  {
   "cell_type": "code",
   "execution_count": null,
   "id": "e7de0180-1457-4e01-992e-d060c1ae8d1f",
   "metadata": {},
   "outputs": [],
   "source": [
    "# E.g. 1: what  is the probability that p < 0.5 given our data\n",
    "# and binomial model?\n",
    "\n",
    "# from our grid approximation\n",
    "grid_approx_p_of_half = posterior[posterior[:,0] < 0.5, :][:, 1].sum()\n",
    "print(f'grid result: {grid_approx_p_of_half: .3f}')\n",
    "\n",
    "# from the samples (easier in general)\n",
    "sampled_p_of_half = sum(samples < 0.5) / len(samples)\n",
    "print(f'sampled result: {sampled_p_of_half: .3f}')\n"
   ]
  },
  {
   "cell_type": "code",
   "execution_count": null,
   "id": "e5c5713f-052f-4083-8a2f-e27a705ef311",
   "metadata": {},
   "outputs": [],
   "source": [
    "# E.g 2: what is the 10%-90% interval for our posterior p?  We can get\n",
    "# this trivially from quantiles\n",
    "\n",
    "print('10% - 90%')\n",
    "print(f'{np.quantile(samples, 0.1):.2f} - {np.quantile(samples,0.9):.2f}')"
   ]
  },
  {
   "cell_type": "markdown",
   "id": "7f7fe896-fb18-4f58-808d-9d497dc07ad1",
   "metadata": {},
   "source": [
    "NB the percentile intervals are nice summaries of the distribution, unless the distro is highly skewed, but they're not ideal for inference."
   ]
  },
  {
   "cell_type": "code",
   "execution_count": null,
   "id": "afed2a95-3d3a-408f-af42-13ff90cf62c1",
   "metadata": {},
   "outputs": [],
   "source": [
    "# TODO code for the PI and HDPI"
   ]
  },
  {
   "cell_type": "markdown",
   "id": "1127eb1d-09ee-4bae-a3ca-acd91b329a73",
   "metadata": {},
   "source": [
    "### Point estimates\n",
    "\n",
    "Note - you don't really need one. The Bayesian parameter estimate is the distribution you just computed, anything else is a discarding of useful information. But if you want one, one option is the maximum a posteriori (MAP) estimate, the mode of the distribution.\n",
    "\n",
    "For the case where we have three successes in three trials, the distribution of p looks like:"
   ]
  },
  {
   "cell_type": "code",
   "execution_count": null,
   "id": "368f6b8b-c984-4fd0-afc8-c9b03bcc3371",
   "metadata": {},
   "outputs": [],
   "source": [
    "posterior_three_successes = pybayes.utils.grid_approximate_binomial(n=3,\n",
    "                                                    k=3,\n",
    "                                                    grid_size=1000,\n",
    "                                                    prior=None,\n",
    "                                                    plot=True)\n",
    "# sample this distribution.\n",
    "samples_three_successes = np.random.choice(posterior_three_successes[:,0],\n",
    "                           size=int(1e4),\n",
    "                           p=posterior_three_successes[:,1],\n",
    "                           replace=True)"
   ]
  },
  {
   "cell_type": "code",
   "execution_count": null,
   "id": "c42a1110-f083-4026-ae9f-b2bded1aa46f",
   "metadata": {},
   "outputs": [],
   "source": [
    "# from the grid approximation:\n",
    "mode = x_for_max_y = posterior_three_successes[np.argmax(posterior_three_successes[:, 1]), 0]\n",
    "print(f'MAP from grid: {mode:.2f}')\n",
    "# from the samples"
   ]
  },
  {
   "cell_type": "code",
   "execution_count": null,
   "id": "28e53547-2a02-479e-a504-adecfd60fd20",
   "metadata": {},
   "outputs": [],
   "source": []
  }
 ],
 "metadata": {
  "kernelspec": {
   "display_name": "Python [conda env:py3_10] *",
   "language": "python",
   "name": "conda-env-py3_10-py"
  },
  "language_info": {
   "codemirror_mode": {
    "name": "ipython",
    "version": 3
   },
   "file_extension": ".py",
   "mimetype": "text/x-python",
   "name": "python",
   "nbconvert_exporter": "python",
   "pygments_lexer": "ipython3",
   "version": "3.10.4"
  }
 },
 "nbformat": 4,
 "nbformat_minor": 5
}
