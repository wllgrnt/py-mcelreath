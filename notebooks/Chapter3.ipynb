{
 "cells": [
  {
   "cell_type": "markdown",
   "id": "3f43be4f-c824-46ac-90c6-2352156e3d2a",
   "metadata": {},
   "source": [
    "# Chapter 3\n",
    "\n",
    "Sampling from the posterior - we have computers, why do we need a closed form for the posterior distribution when we can have a massive numpy array instead?"
   ]
  },
  {
   "cell_type": "code",
   "execution_count": null,
   "id": "669bc5de-d281-400b-bb90-7f9729abfef7",
   "metadata": {},
   "outputs": [],
   "source": [
    "import matplotlib.pyplot as plt\n",
    "import numpy as np\n",
    "import scipy.stats\n",
    "import seaborn as sns\n",
    "\n",
    "import pybayes\n",
    "\n",
    "sns.set(style='whitegrid')"
   ]
  },
  {
   "cell_type": "markdown",
   "id": "07703dbc-ed77-4b55-a33b-046db0c9fd3e",
   "metadata": {},
   "source": [
    "## Sampling from the grid-approximate posterior"
   ]
  },
  {
   "cell_type": "code",
   "execution_count": null,
   "id": "3c1b7a0a-24aa-492b-9751-973b6b332dae",
   "metadata": {},
   "outputs": [],
   "source": [
    "# using the example from chapter 2 of 9 attempts, 6 successes.\n",
    "posterior = pybayes.utils.grid_approximate_binomial(n=9,\n",
    "                                                    k=6,\n",
    "                                                    grid_size=1000,\n",
    "                                                    prior=None,\n",
    "                                                    plot=False)"
   ]
  },
  {
   "cell_type": "code",
   "execution_count": null,
   "id": "a92a42e2-899f-4b15-b9e9-d2f1a89367f0",
   "metadata": {},
   "outputs": [],
   "source": [
    "pybayes.utils.plot_nicely(x_vals=posterior[:,0], y_vals=posterior[:,1])"
   ]
  },
  {
   "cell_type": "code",
   "execution_count": null,
   "id": "91bb3df6-a08f-4d1c-a59b-b4e2521af9df",
   "metadata": {},
   "outputs": [],
   "source": [
    "# sample this distribution.\n",
    "samples = np.random.choice(posterior[:,0],\n",
    "                           size=int(1e4),\n",
    "                           p=posterior[:,1],\n",
    "                           replace=True)"
   ]
  },
  {
   "cell_type": "code",
   "execution_count": null,
   "id": "b8295935-58b9-4267-afdf-9481529fbe17",
   "metadata": {},
   "outputs": [],
   "source": [
    "# show the sampling - plot the sequence, then the density\n",
    "fig, axes = plt.subplots(nrows=2, figsize=(5,10))\n",
    "sns.scatterplot(x=np.arange(len(samples)), y=samples, alpha=0.2, ax=axes[0])\n",
    "axes[0].set_ylim(0,1)\n",
    "axes[0].set_xlabel('Sequence number')\n",
    "axes[0].set_ylabel('Sampled p')\n",
    "\n",
    "sns.histplot(x=samples, ax=axes[1], element='poly', fill=False)\n",
    "axes[1].set_xlim(0,1)\n",
    "axes[1].set_xlabel('Sampled p')\n",
    "axes[1].set_ylabel('Frequency density')\n",
    "plt.show()\n"
   ]
  },
  {
   "cell_type": "code",
   "execution_count": null,
   "id": "35413688-3f43-43e3-860e-47fc9d2ad38a",
   "metadata": {},
   "outputs": [],
   "source": []
  }
 ],
 "metadata": {
  "kernelspec": {
   "display_name": "Python [conda env:py3_10] *",
   "language": "python",
   "name": "conda-env-py3_10-py"
  },
  "language_info": {
   "codemirror_mode": {
    "name": "ipython",
    "version": 3
   },
   "file_extension": ".py",
   "mimetype": "text/x-python",
   "name": "python",
   "nbconvert_exporter": "python",
   "pygments_lexer": "ipython3",
   "version": "3.10.4"
  }
 },
 "nbformat": 4,
 "nbformat_minor": 5
}
