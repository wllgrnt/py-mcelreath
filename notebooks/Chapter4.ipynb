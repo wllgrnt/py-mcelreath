{
 "cells": [
  {
   "cell_type": "markdown",
   "id": "0a738137-3fd9-48ac-8f3e-a638b017610f",
   "metadata": {},
   "source": [
    "# Chapter 4\n",
    "\n",
    "Bayesian interpretations of linear regression.\n"
   ]
  },
  {
   "cell_type": "code",
   "execution_count": null,
   "id": "dc8f362f-c317-43c1-9399-c3deeb3fbcfa",
   "metadata": {},
   "outputs": [],
   "source": [
    "import arviz\n",
    "import matplotlib.pyplot as plt\n",
    "import numpy as np\n",
    "import scipy.stats\n",
    "import seaborn as sns\n",
    "\n",
    "import pybayes\n",
    "\n",
    "sns.set_style(\"white\") "
   ]
  },
  {
   "cell_type": "markdown",
   "id": "33103e69-caa8-4cb4-acb4-7428d035067d",
   "metadata": {},
   "source": [
    "\n",
    "Firstly, we simulate some random walks to show empirically (if further evidence were needed) that lots of things end up being Gaussian.\n",
    "\n",
    "Eg random walks via binomial (e.g. flip a coin, step forward if heads, backward if tails)."
   ]
  },
  {
   "cell_type": "code",
   "execution_count": null,
   "id": "a4f110f7-404c-4632-9de4-8bf2ee6dcdf1",
   "metadata": {},
   "outputs": [],
   "source": [
    "n_walks = 1000\n",
    "n_steps = 1000\n",
    "\n",
    "walks = np.random.binomial(n=1, p=0.5, size=(n_walks, n_steps))\n",
    "walks[walks == 0] = -1\n",
    "\n",
    "paths = np.cumsum(walks, axis=1)\n",
    "\n",
    "fig, ax = plt.subplots()s\n",
    "\n",
    "for i in range(n_walks):\n",
    "    plt.plot(paths[i, :], alpha=0.05)\n",
    "\n",
    "plt.title('Walks')\n",
    "plt.xlabel('Step number')\n",
    "plt.ylabel('Position')\n",
    "plt.show()"
   ]
  },
  {
   "cell_type": "code",
   "execution_count": null,
   "id": "408d056d-a3f4-43e0-bba6-a244ee61da79",
   "metadata": {},
   "outputs": [],
   "source": [
    "final_position = paths[:, -1]\n",
    "pybayes.utils.hist(final_position)\n",
    "plt.show()"
   ]
  },
  {
   "cell_type": "code",
   "execution_count": null,
   "id": "59d7dec4-daee-49c0-bd08-f32a5b2f6c03",
   "metadata": {},
   "outputs": [],
   "source": []
  }
 ],
 "metadata": {
  "kernelspec": {
   "display_name": "Python [conda env:py3_11] *",
   "language": "python",
   "name": "conda-env-py3_11-py"
  },
  "language_info": {
   "codemirror_mode": {
    "name": "ipython",
    "version": 3
   },
   "file_extension": ".py",
   "mimetype": "text/x-python",
   "name": "python",
   "nbconvert_exporter": "python",
   "pygments_lexer": "ipython3",
   "version": "3.11.0"
  }
 },
 "nbformat": 4,
 "nbformat_minor": 5
}
